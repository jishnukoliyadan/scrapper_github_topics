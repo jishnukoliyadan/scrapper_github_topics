{
 "cells": [
  {
   "cell_type": "code",
   "execution_count": 1,
   "id": "469415c2-3675-4980-9eb0-9e6c6ba7989f",
   "metadata": {},
   "outputs": [],
   "source": [
    "import time\n",
    "import pandas as pd\n",
    "from tqdm import tqdm\n",
    "from bs4 import BeautifulSoup as bs\n",
    "\n",
    "from selenium import webdriver\n",
    "from selenium.webdriver.common.by import By\n",
    "from webdriver_manager.core.utils import ChromeType\n",
    "from webdriver_manager.chrome import ChromeDriverManager\n",
    "from selenium.webdriver.chrome.service import Service as ChromiumService"
   ]
  },
  {
   "cell_type": "code",
   "execution_count": 2,
   "id": "2e764d7b-c423-4a88-978f-bc8709c3e2d5",
   "metadata": {},
   "outputs": [],
   "source": [
    "def scroll_to_bottom():\n",
    "    driver.execute_script(\"window.scrollTo(0, document.body.scrollHeight)\")"
   ]
  },
  {
   "cell_type": "code",
   "execution_count": 3,
   "id": "072ebe7a-20da-44d7-ae6c-73b66d711ac4",
   "metadata": {},
   "outputs": [],
   "source": [
    "# https://pythonbasics.org/selenium-scroll-down/\n",
    "\n",
    "driver = webdriver.Chrome(service=ChromiumService(ChromeDriverManager(chrome_type=ChromeType.CHROMIUM).install()))\n",
    "\n",
    "BASE_URL = 'https://github.com'\n",
    "driver.get(BASE_URL + '/topics')\n",
    "driver.maximize_window()\n",
    "scroll_to_bottom()\n",
    "\n",
    "try:\n",
    "    while True:\n",
    "        time.sleep(2)\n",
    "        driver.find_element(By.XPATH, \"//button[@type = 'submit']\").click()\n",
    "        time.sleep(3)\n",
    "        scroll_to_bottom()\n",
    "except:\n",
    "    pass\n",
    "\n",
    "soup = bs(driver.page_source, 'lxml')\n",
    "driver.quit()\n",
    "\n",
    "# print(soup.prettify())"
   ]
  },
  {
   "cell_type": "code",
   "execution_count": 4,
   "id": "6211ad41-c69d-4c0a-8351-b56087e6a7e6",
   "metadata": {
    "tags": []
   },
   "outputs": [
    {
     "name": "stdout",
     "output_type": "stream",
     "text": [
      "Number of topic titles collected : 180\n",
      "\n"
     ]
    },
    {
     "data": {
      "text/html": [
       "<div>\n",
       "<style scoped>\n",
       "    .dataframe tbody tr th:only-of-type {\n",
       "        vertical-align: middle;\n",
       "    }\n",
       "\n",
       "    .dataframe tbody tr th {\n",
       "        vertical-align: top;\n",
       "    }\n",
       "\n",
       "    .dataframe thead th {\n",
       "        text-align: right;\n",
       "    }\n",
       "</style>\n",
       "<table border=\"1\" class=\"dataframe\">\n",
       "  <thead>\n",
       "    <tr style=\"text-align: right;\">\n",
       "      <th></th>\n",
       "      <th>title</th>\n",
       "      <th>link</th>\n",
       "      <th>descrip</th>\n",
       "    </tr>\n",
       "  </thead>\n",
       "  <tbody>\n",
       "    <tr>\n",
       "      <th>0</th>\n",
       "      <td>3D</td>\n",
       "      <td>https://github.com/topics/3d</td>\n",
       "      <td>3D modeling is the process of virtually develo...</td>\n",
       "    </tr>\n",
       "    <tr>\n",
       "      <th>1</th>\n",
       "      <td>Ajax</td>\n",
       "      <td>https://github.com/topics/ajax</td>\n",
       "      <td>Ajax is a technique for creating interactive w...</td>\n",
       "    </tr>\n",
       "    <tr>\n",
       "      <th>2</th>\n",
       "      <td>Algorithm</td>\n",
       "      <td>https://github.com/topics/algorithm</td>\n",
       "      <td>Algorithms are self-contained sequences that c...</td>\n",
       "    </tr>\n",
       "    <tr>\n",
       "      <th>3</th>\n",
       "      <td>Amp</td>\n",
       "      <td>https://github.com/topics/amphp</td>\n",
       "      <td>Amp is a non-blocking concurrency library for ...</td>\n",
       "    </tr>\n",
       "    <tr>\n",
       "      <th>4</th>\n",
       "      <td>Android</td>\n",
       "      <td>https://github.com/topics/android</td>\n",
       "      <td>Android is an operating system built by Google...</td>\n",
       "    </tr>\n",
       "  </tbody>\n",
       "</table>\n",
       "</div>"
      ],
      "text/plain": [
       "       title                                 link  \\\n",
       "0         3D         https://github.com/topics/3d   \n",
       "1       Ajax       https://github.com/topics/ajax   \n",
       "2  Algorithm  https://github.com/topics/algorithm   \n",
       "3        Amp      https://github.com/topics/amphp   \n",
       "4    Android    https://github.com/topics/android   \n",
       "\n",
       "                                             descrip  \n",
       "0  3D modeling is the process of virtually develo...  \n",
       "1  Ajax is a technique for creating interactive w...  \n",
       "2  Algorithms are self-contained sequences that c...  \n",
       "3  Amp is a non-blocking concurrency library for ...  \n",
       "4  Android is an operating system built by Google...  "
      ]
     },
     "execution_count": 4,
     "metadata": {},
     "output_type": "execute_result"
    }
   ],
   "source": [
    "all_topics = soup.find_all('div', {'class' : 'py-4 border-bottom d-flex flex-justify-between'})\n",
    "\n",
    "links, titles, descs = [], [], []\n",
    "\n",
    "for topic in all_topics:\n",
    "    \n",
    "    topic_box = topic.find('a', {'class' : 'no-underline flex-1 d-flex flex-column'})\n",
    "    links.append(BASE_URL + topic_box['href'])\n",
    "    titles.append(topic_box.select('p')[0].text.strip())\n",
    "    descs.append(topic_box.select('p')[1].text.strip())\n",
    "    \n",
    "topic_df = pd.DataFrame({'title' : titles, 'link' : links, 'descrip' : descs})\n",
    "topic_df.to_csv('data/topics.csv', index = False)\n",
    "\n",
    "print(f'Number of topic titles collected : {len(topic_df)}\\n')\n",
    "topic_df.head()"
   ]
  },
  {
   "cell_type": "code",
   "execution_count": null,
   "id": "8fddd338-b99d-4f1d-b03c-8d17c0fd6d16",
   "metadata": {},
   "outputs": [],
   "source": []
  }
 ],
 "metadata": {
  "kernelspec": {
   "display_name": "Python 3 (ipykernel)",
   "language": "python",
   "name": "python3"
  },
  "language_info": {
   "codemirror_mode": {
    "name": "ipython",
    "version": 3
   },
   "file_extension": ".py",
   "mimetype": "text/x-python",
   "name": "python",
   "nbconvert_exporter": "python",
   "pygments_lexer": "ipython3",
   "version": "3.10.8"
  }
 },
 "nbformat": 4,
 "nbformat_minor": 5
}
