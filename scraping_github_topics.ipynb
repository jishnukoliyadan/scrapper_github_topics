{
 "cells": [
  {
   "cell_type": "markdown",
   "id": "46bae8c5-54b1-41ec-9ca8-86de83ef5afd",
   "metadata": {
    "tags": []
   },
   "source": [
    "# 'Topics on GitHub' Scrapper\n",
    "\n",
    "<img src = 'https://i.imgur.com/Uig9ymG.png' width = 80%>"
   ]
  },
  {
   "cell_type": "markdown",
   "id": "c252afc5-01ad-40d1-bafa-cd7a400fbecb",
   "metadata": {},
   "source": [
    "<a href = 'https://colab.research.google.com/github/jishnukoliyadan/scrapper_github_topics//blob/master/scraping_github_topics.ipynb' target = '_blank'><img src = 'https://raw.githubusercontent.com/jishnukoliyadan/usefull_items/master/svgs/Colab_Run_In.svg' width = 20%></a>"
   ]
  },
  {
   "cell_type": "markdown",
   "id": "2c798724-325e-4333-a90f-8abaad2c1c72",
   "metadata": {},
   "source": [
    "<a href = 'https://github.com/jishnukoliyadan/scrapper_github_topics/blob/master/scraping_github_topics.ipynb' target = '_blank'><img src = 'https://raw.githubusercontent.com/jishnukoliyadan/usefull_items/master/svgs/GitHub_View_Source.svg' width = 20%></a>"
   ]
  },
  {
   "cell_type": "markdown",
   "id": "7ab8e36f-794c-47e6-b675-9d3c3ca676b1",
   "metadata": {},
   "source": [
    "<a href = 'https://www.kaggle.com/code/jishnukoliyadan/data-collection-tutorial' target = '_blank'><img src = 'https://raw.githubusercontent.com/jishnukoliyadan/usefull_items/master/svgs/Kaggle_View_On.svg' width = 20%></a>"
   ]
  },
  {
   "cell_type": "markdown",
   "id": "5cb9398d-bdab-4ded-9ac0-6337551d8697",
   "metadata": {},
   "source": [
    "<a href = 'https://nbviewer.org/github/jishnukoliyadan/scrapper_github_topics/blob/master/scraping_github_topics.ipynb' target = '_blank'><img src = 'https://raw.githubusercontent.com/jishnukoliyadan/usefull_items/master/svgs/NbViwer_View_In.svg' width = 20%></a>"
   ]
  },
  {
   "cell_type": "markdown",
   "id": "3a9bbd15-c099-4f03-8233-0200d0a06ab3",
   "metadata": {},
   "source": [
    "## First things first\n",
    "\n",
    "Lets check [robots.txt](https://github.com/robots.txt) of [github.com](https://github.com/robots.txt).\n",
    "\n",
    "<img src = 'https://i.imgur.com/aiqWqOK.png'>\n",
    "\n",
    "GitHub provides API's but still we are going for web scrapping, and adding a good delay period between each click/activity in the website."
   ]
  },
  {
   "cell_type": "markdown",
   "id": "ae622c45-3a4c-47f3-b717-1704dc3b112b",
   "metadata": {},
   "source": [
    "# Importing libraries"
   ]
  },
  {
   "cell_type": "code",
   "execution_count": 1,
   "id": "469415c2-3675-4980-9eb0-9e6c6ba7989f",
   "metadata": {},
   "outputs": [],
   "source": [
    "import os\n",
    "import re\n",
    "import ast\n",
    "import time\n",
    "import pandas as pd\n",
    "from tqdm import tqdm\n",
    "from bs4 import BeautifulSoup as bs\n",
    "\n",
    "from selenium import webdriver\n",
    "from selenium.webdriver.common.by import By\n",
    "from webdriver_manager.core.utils import ChromeType\n",
    "from webdriver_manager.chrome import ChromeDriverManager\n",
    "from selenium.webdriver.chrome.service import Service as ChromiumService"
   ]
  },
  {
   "cell_type": "markdown",
   "id": "49eeaf53-9a91-4331-aa26-d2187e2a1d4d",
   "metadata": {},
   "source": [
    "# Generating All featured topics"
   ]
  },
  {
   "cell_type": "markdown",
   "id": "64c936b4-78b5-4888-8799-a6c9064c4c50",
   "metadata": {},
   "source": [
    "## Plan of action"
   ]
  },
  {
   "cell_type": "markdown",
   "id": "9a31253b-a769-4857-b227-fe253328fc71",
   "metadata": {
    "tags": []
   },
   "source": [
    "### 1. The botton **Load more..**\n",
    "\n",
    "- This image shows the are we are interested in going for to scrape.\n",
    "- The [GitHub Topics](https://github.com/topics) page only shows **20** topics in one go.\n",
    "- The first challenge is to extract all the avaliable topics by help of `botton` **Load more...**.\n",
    "\n",
    "<img src = 'https://i.imgur.com/gzEh06O.png'>"
   ]
  },
  {
   "cell_type": "markdown",
   "id": "d1c0373b",
   "metadata": {},
   "source": [
    "- The HTML skeleton shows the **Load more..** is a `botton` with `type=\"submit\"`.\n",
    "- In order to find this `button` we are using the **XPATH** feature.\n",
    "- For to find this `botton` we will be using the code `driver.find_element(By.XPATH, \"//button[@type = 'submit']\").click()`.\n",
    "- This will find the `botton` and will **click** for us automatically.\n",
    "\n",
    "<img src = 'https://i.imgur.com/P26nk9g.png'>"
   ]
  },
  {
   "cell_type": "code",
   "execution_count": 2,
   "id": "995e801a-8fb5-4ad1-9566-32d574b8564f",
   "metadata": {},
   "outputs": [],
   "source": [
    "def call_webdriver():\n",
    "    return webdriver.Chrome(service=ChromiumService(ChromeDriverManager(chrome_type=ChromeType.CHROMIUM).install()))"
   ]
  },
  {
   "cell_type": "code",
   "execution_count": 3,
   "id": "2e764d7b-c423-4a88-978f-bc8709c3e2d5",
   "metadata": {},
   "outputs": [],
   "source": [
    "# https://pythonbasics.org/selenium-scroll-down/\n",
    "\n",
    "def scroll_to_bottom():\n",
    "    driver.execute_script(\"window.scrollTo(0, document.body.scrollHeight)\")"
   ]
  },
  {
   "cell_type": "code",
   "execution_count": 4,
   "id": "ad79617c-817b-406a-857b-559f028ffb36",
   "metadata": {},
   "outputs": [
    {
     "name": "stdout",
     "output_type": "stream",
     "text": [
      "Opening selenium crawler\n"
     ]
    }
   ],
   "source": [
    "BASE_URL = 'https://github.com'\n",
    "\n",
    "os.makedirs('data', exist_ok = True) # Creating directory to save scrapped data\n",
    "\n",
    "if not os.path.isfile('data/topics.csv'):\n",
    "    \n",
    "    print('Opening selenium crawler')\n",
    "    \n",
    "    driver = call_webdriver()\n",
    "    driver.get(BASE_URL + '/topics')\n",
    "    driver.maximize_window()\n",
    "    scroll_to_bottom()\n",
    "\n",
    "    try:\n",
    "        while True:\n",
    "            time.sleep(2)\n",
    "            driver.find_element(By.XPATH, \"//button[@type = 'submit']\").click()\n",
    "            time.sleep(3)\n",
    "            scroll_to_bottom()\n",
    "    except:\n",
    "        pass\n",
    "    \n",
    "    soup = bs(driver.page_source, 'lxml')\n",
    "    driver.quit()\n",
    "\n",
    "    # print(soup.prettify())\n",
    "else:\n",
    "    print(\"'topics.csv' already exisits, not using crawler\")"
   ]
  },
  {
   "cell_type": "markdown",
   "id": "e12e8dd7-0c23-4db9-80b6-4ce04bf24d90",
   "metadata": {},
   "source": [
    "### 2. Scrapping the data\n",
    "\n",
    "- Let's see the **GIF** before we break down to pieces.\n",
    "\n",
    "<img src = 'https://i.imgur.com/eyf9jsx.gif'>"
   ]
  },
  {
   "cell_type": "markdown",
   "id": "d1ba72a0-1de3-4626-b17a-7e838d609f89",
   "metadata": {},
   "source": [
    "### Let's Break Down\n",
    "\n",
    "<img src = 'https://i.imgur.com/4rVt9Kn.gif'>\n",
    "\n",
    "- This clearly shows we have a `class` **py-4 border-bottom d-flex flex-justify-between**  which have all the necessary data we have.\n",
    "- In this class we have another `class` named **no-underline flex-1 d-flex flex-column**, this is the exact area we need to scrape."
   ]
  },
  {
   "cell_type": "markdown",
   "id": "fffc2039-8a47-4649-afea-57d2c4e69fd3",
   "metadata": {},
   "source": [
    "<img src = 'https://i.imgur.com/CKYE5nm.gif'>\n",
    "\n",
    "- We are looking for all these items.\n",
    "    1. Link to the topic, which is represented as **Item-1** in the figure and enclosed inside the `a` tag.\n",
    "    2. The topic name (**Item-2**) is enclosed in `p` tag.\n",
    "    3. Description of the topic (**Item-3**) was given in another `p` tag.\n",
    "    \n",
    "**Now let's extract the data**"
   ]
  },
  {
   "cell_type": "code",
   "execution_count": 5,
   "id": "6211ad41-c69d-4c0a-8351-b56087e6a7e6",
   "metadata": {
    "tags": []
   },
   "outputs": [
    {
     "name": "stdout",
     "output_type": "stream",
     "text": [
      "Data file doesn't exists, scrapping data\n",
      "Number of topic titles collected : 180\n",
      "\n"
     ]
    },
    {
     "data": {
      "text/html": [
       "<div>\n",
       "<style scoped>\n",
       "    .dataframe tbody tr th:only-of-type {\n",
       "        vertical-align: middle;\n",
       "    }\n",
       "\n",
       "    .dataframe tbody tr th {\n",
       "        vertical-align: top;\n",
       "    }\n",
       "\n",
       "    .dataframe thead th {\n",
       "        text-align: right;\n",
       "    }\n",
       "</style>\n",
       "<table border=\"1\" class=\"dataframe\">\n",
       "  <thead>\n",
       "    <tr style=\"text-align: right;\">\n",
       "      <th></th>\n",
       "      <th>title</th>\n",
       "      <th>link</th>\n",
       "      <th>descrip</th>\n",
       "    </tr>\n",
       "  </thead>\n",
       "  <tbody>\n",
       "    <tr>\n",
       "      <th>0</th>\n",
       "      <td>3D</td>\n",
       "      <td>https://github.com/topics/3d</td>\n",
       "      <td>3D modeling is the process of virtually develo...</td>\n",
       "    </tr>\n",
       "    <tr>\n",
       "      <th>1</th>\n",
       "      <td>Ajax</td>\n",
       "      <td>https://github.com/topics/ajax</td>\n",
       "      <td>Ajax is a technique for creating interactive w...</td>\n",
       "    </tr>\n",
       "    <tr>\n",
       "      <th>2</th>\n",
       "      <td>Algorithm</td>\n",
       "      <td>https://github.com/topics/algorithm</td>\n",
       "      <td>Algorithms are self-contained sequences that c...</td>\n",
       "    </tr>\n",
       "    <tr>\n",
       "      <th>3</th>\n",
       "      <td>Amp</td>\n",
       "      <td>https://github.com/topics/amphp</td>\n",
       "      <td>Amp is a non-blocking concurrency library for ...</td>\n",
       "    </tr>\n",
       "    <tr>\n",
       "      <th>4</th>\n",
       "      <td>Android</td>\n",
       "      <td>https://github.com/topics/android</td>\n",
       "      <td>Android is an operating system built by Google...</td>\n",
       "    </tr>\n",
       "  </tbody>\n",
       "</table>\n",
       "</div>"
      ],
      "text/plain": [
       "       title                                 link  \\\n",
       "0         3D         https://github.com/topics/3d   \n",
       "1       Ajax       https://github.com/topics/ajax   \n",
       "2  Algorithm  https://github.com/topics/algorithm   \n",
       "3        Amp      https://github.com/topics/amphp   \n",
       "4    Android    https://github.com/topics/android   \n",
       "\n",
       "                                             descrip  \n",
       "0  3D modeling is the process of virtually develo...  \n",
       "1  Ajax is a technique for creating interactive w...  \n",
       "2  Algorithms are self-contained sequences that c...  \n",
       "3  Amp is a non-blocking concurrency library for ...  \n",
       "4  Android is an operating system built by Google...  "
      ]
     },
     "execution_count": 5,
     "metadata": {},
     "output_type": "execute_result"
    }
   ],
   "source": [
    "if not os.path.isfile('data/topics.csv'):\n",
    "    \n",
    "    print(\"Data file doesn't exists, scrapping data\")\n",
    "    all_topics = soup.find_all('div', {'class' : 'py-4 border-bottom d-flex flex-justify-between'})\n",
    "\n",
    "    links, titles, descs = [], [], []\n",
    "    for topic in all_topics:\n",
    "\n",
    "        topic_box = topic.find('a', {'class' : 'no-underline flex-1 d-flex flex-column'})\n",
    "        links.append(BASE_URL + topic_box['href'])\n",
    "        titles.append(topic_box.select('p')[0].text.strip())\n",
    "        descs.append(topic_box.select('p')[1].text.strip())\n",
    "\n",
    "    topic_df = pd.DataFrame({'title' : titles, 'link' : links, 'descrip' : descs})\n",
    "    topic_df.to_csv('data/topics.csv', index = False)\n",
    "    print(f'Number of topic titles collected : {len(topic_df)}\\n')\n",
    "else:\n",
    "    print(\"Loading saved 'topics.csv'\")\n",
    "    topic_df = pd.read_csv('data/topics.csv')\n",
    "    print(f'Number of topic titles collected : {len(topic_df)}\\n')\n",
    "\n",
    "topic_df.head()"
   ]
  },
  {
   "cell_type": "markdown",
   "id": "e0b462a3-3a37-4386-9f6f-a91a4b42c935",
   "metadata": {},
   "source": [
    "# Generating repository details"
   ]
  },
  {
   "cell_type": "markdown",
   "id": "86415395-00eb-491c-9d53-f0eae6fc7694",
   "metadata": {
    "tags": []
   },
   "source": [
    "### 1. The botton **Load more..**\n",
    "\n",
    "- This image shows the are we are interested in going for to scrape.\n",
    "- The [GitHub Topics](https://github.com/topics) page for any topics only shows **20** repositories in one go.\n",
    "- The first challenge is to extract 120 rescords with the help of `botton` **Load more...**.\n",
    "\n",
    "<img src = 'https://i.imgur.com/8gAxqu7.png'>"
   ]
  },
  {
   "cell_type": "markdown",
   "id": "f3c63132-8da5-4f38-9f08-b8c229bc0224",
   "metadata": {},
   "source": [
    "- The HTML skeleton shows the **Load more..** is a `botton` with `type=\"submit\"`.\n",
    "- In order to find this `button` we are using the **XPATH** feature.\n",
    "- For to find this `botton` we will be using the code `driver.find_element(By.XPATH, \"//button[@type = 'submit']\").click()`.\n",
    "- This will find the `botton` and will **click** for us automatically.\n",
    "\n",
    "<img src = 'https://i.imgur.com/RSC5pkV.png'>"
   ]
  },
  {
   "cell_type": "markdown",
   "id": "eeae8532-52be-46fc-b608-137392eee5e4",
   "metadata": {},
   "source": [
    "### 2. Scrapping the data\n",
    "\n",
    "- Let's see the **GIF** before we break down to pieces.\n",
    "\n",
    "<img src = 'https://i.imgur.com/gSvMQbx.gif'>"
   ]
  },
  {
   "cell_type": "markdown",
   "id": "71d93264-4ff2-4423-aa4e-bf6a23da89fa",
   "metadata": {},
   "source": [
    "### Let's Break Down\n",
    "\n",
    "<img src = 'https://i.imgur.com/8gAxqu7.gif'>\n",
    "\n",
    "- This clearly shows we have a `class` **d-flex flex-justify-between flex-items-start flex-wrap gap-2 my-3**  which have all the necessary data we have.\n",
    "<!-- - In this class we have another `class` named **no-underline flex-1 d-flex flex-column**, this is the exact area we need to scrape. -->"
   ]
  },
  {
   "cell_type": "markdown",
   "id": "9272fc34-28a9-49d6-a28e-919e482aa127",
   "metadata": {},
   "source": [
    "<img src = 'https://i.imgur.com/xo0k8rl.gif'>\n",
    "\n",
    "- We are looking for all these items.\n",
    "    1. User name of the GitHub user (**Item-1**) and the repository name (**Item-2**) was present inside the `a` tag which is inside in a `h3` tag.\n",
    "    2. The start count was present inside a `span` tag whose `class` name is **Counter js-social-count**.\n",
    "    \n",
    "**Now let's extract the data**"
   ]
  },
  {
   "cell_type": "code",
   "execution_count": 6,
   "id": "be729656-e575-4ece-8118-26ffb60e721e",
   "metadata": {},
   "outputs": [
    {
     "name": "stderr",
     "output_type": "stream",
     "text": [
      "100%|████████████████████████████████████████████████████████████| 180/180 [1:38:14<00:00, 32.75s/it]\n"
     ]
    },
    {
     "name": "stdout",
     "output_type": "stream",
     "text": [
      "Number of repo details collected : 21337\n",
      "\n"
     ]
    },
    {
     "data": {
      "text/html": [
       "<div>\n",
       "<style scoped>\n",
       "    .dataframe tbody tr th:only-of-type {\n",
       "        vertical-align: middle;\n",
       "    }\n",
       "\n",
       "    .dataframe tbody tr th {\n",
       "        vertical-align: top;\n",
       "    }\n",
       "\n",
       "    .dataframe thead th {\n",
       "        text-align: right;\n",
       "    }\n",
       "</style>\n",
       "<table border=\"1\" class=\"dataframe\">\n",
       "  <thead>\n",
       "    <tr style=\"text-align: right;\">\n",
       "      <th></th>\n",
       "      <th>topic</th>\n",
       "      <th>user_name</th>\n",
       "      <th>repo_name</th>\n",
       "      <th>repo_link</th>\n",
       "      <th>start_count</th>\n",
       "    </tr>\n",
       "  </thead>\n",
       "  <tbody>\n",
       "    <tr>\n",
       "      <th>0</th>\n",
       "      <td>3d</td>\n",
       "      <td>mrdoob</td>\n",
       "      <td>three.js</td>\n",
       "      <td>https://github.com/mrdoob/three.js</td>\n",
       "      <td>87.1k</td>\n",
       "    </tr>\n",
       "    <tr>\n",
       "      <th>1</th>\n",
       "      <td>3d</td>\n",
       "      <td>libgdx</td>\n",
       "      <td>libgdx</td>\n",
       "      <td>https://github.com/libgdx/libgdx</td>\n",
       "      <td>20.8k</td>\n",
       "    </tr>\n",
       "    <tr>\n",
       "      <th>2</th>\n",
       "      <td>3d</td>\n",
       "      <td>pmndrs</td>\n",
       "      <td>react-three-fiber</td>\n",
       "      <td>https://github.com/pmndrs/react-three-fiber</td>\n",
       "      <td>20.5k</td>\n",
       "    </tr>\n",
       "    <tr>\n",
       "      <th>3</th>\n",
       "      <td>3d</td>\n",
       "      <td>BabylonJS</td>\n",
       "      <td>Babylon.js</td>\n",
       "      <td>https://github.com/BabylonJS/Babylon.js</td>\n",
       "      <td>18.8k</td>\n",
       "    </tr>\n",
       "    <tr>\n",
       "      <th>4</th>\n",
       "      <td>3d</td>\n",
       "      <td>ssloy</td>\n",
       "      <td>tinyrenderer</td>\n",
       "      <td>https://github.com/ssloy/tinyrenderer</td>\n",
       "      <td>15.3k</td>\n",
       "    </tr>\n",
       "  </tbody>\n",
       "</table>\n",
       "</div>"
      ],
      "text/plain": [
       "  topic  user_name          repo_name  \\\n",
       "0    3d     mrdoob           three.js   \n",
       "1    3d     libgdx             libgdx   \n",
       "2    3d     pmndrs  react-three-fiber   \n",
       "3    3d  BabylonJS         Babylon.js   \n",
       "4    3d      ssloy       tinyrenderer   \n",
       "\n",
       "                                     repo_link start_count  \n",
       "0           https://github.com/mrdoob/three.js       87.1k  \n",
       "1             https://github.com/libgdx/libgdx       20.8k  \n",
       "2  https://github.com/pmndrs/react-three-fiber       20.5k  \n",
       "3      https://github.com/BabylonJS/Babylon.js       18.8k  \n",
       "4        https://github.com/ssloy/tinyrenderer       15.3k  "
      ]
     },
     "execution_count": 6,
     "metadata": {},
     "output_type": "execute_result"
    }
   ],
   "source": [
    "if not os.path.isfile('data/repo_details.csv'):\n",
    "\n",
    "    driver = call_webdriver()\n",
    "    driver.maximize_window()\n",
    "\n",
    "    topic_repo_df = pd.DataFrame({'topic' : [], 'user_name' : [], 'repo_name' : [], 'repo_link' : [], 'start_count' : []})\n",
    "    not_120 = []\n",
    "    \n",
    "    for t_link in tqdm(topic_df.link):\n",
    "        driver.get(t_link)\n",
    "        try:\n",
    "            count = 5\n",
    "            while count:\n",
    "                scroll_to_bottom()\n",
    "                time.sleep(2)\n",
    "                driver.find_element(By.XPATH, \"//button[@type = 'submit']\").click()\n",
    "                time.sleep(2)\n",
    "                scroll_to_bottom()\n",
    "                time.sleep(2)\n",
    "                count -= 1\n",
    "        except:\n",
    "            not_120.append(t_link)\n",
    "        \n",
    "        soup = bs(driver.page_source, 'lxml')\n",
    "        all_div_box = soup.find_all('div', {'class' : 'd-flex flex-justify-between flex-items-start flex-wrap gap-2 my-3'})\n",
    "\n",
    "        for div_box in all_div_box:\n",
    "            topic = t_link.split(\"/\")[-1]\n",
    "            user_name = div_box.select('h3 a')[0].text.strip()\n",
    "            repo_name = div_box.select('h3 a')[1].text.strip()\n",
    "            repo_link = BASE_URL + div_box.select('h3 a')[1]['href'].strip()\n",
    "            star_count = div_box.find('span', class_ = 'Counter js-social-count').text\n",
    "\n",
    "            topic_repo_df.loc[len(topic_repo_df)] = [topic, user_name, repo_name, repo_link, star_count]\n",
    "\n",
    "    driver.quit()\n",
    "    topic_repo_df.to_csv('data/repo_details.csv', index = False)\n",
    "    print(f'Number of repo details collected : {len(topic_repo_df)}\\n')\n",
    "    \n",
    "else:\n",
    "    print(\"Loading saved 'repo_details.csv'\")\n",
    "    topic_repo_df = pd.read_csv('data/repo_details.csv')\n",
    "    print(f'Number of repo details collected : {len(topic_repo_df)}\\n')\n",
    "\n",
    "topic_repo_df.head()"
   ]
  },
  {
   "cell_type": "code",
   "execution_count": 7,
   "id": "743f760b-186d-4f18-9b9a-fa0f9f033d68",
   "metadata": {},
   "outputs": [
    {
     "name": "stdout",
     "output_type": "stream",
     "text": [
      "Number of topices that doesn't have 120 records : 5\n",
      "\n",
      "                   Title  Count\n",
      "0              mvvmcross     95\n",
      "1                ratchet     89\n",
      "2  dependency-management     76\n",
      "3               spacevim     67\n",
      "4              wordplate     10\n"
     ]
    }
   ],
   "source": [
    "try:\n",
    "    not_120 = topic_repo_df.topic.value_counts()\n",
    "    not_120 = pd.DataFrame(not_120[not_120 != 120]).reset_index().rename(columns  = {'topic' : 'Count', 'index' : 'Title'})\n",
    "    print(f\"Number of topices that doesn't have 120 records : {len(not_120)}\\n\")\n",
    "    print(not_120)\n",
    "except:\n",
    "    pass"
   ]
  },
  {
   "cell_type": "markdown",
   "id": "3e12bc29-91fa-488c-a0a5-edc6a302fdc0",
   "metadata": {},
   "source": [
    "# Cleaning repository data"
   ]
  },
  {
   "cell_type": "code",
   "execution_count": 8,
   "id": "1a9ea801-ec70-4103-96f5-11d612c14971",
   "metadata": {},
   "outputs": [
    {
     "name": "stdout",
     "output_type": "stream",
     "text": [
      "<class 'pandas.core.frame.DataFrame'>\n",
      "RangeIndex: 21337 entries, 0 to 21336\n",
      "Data columns (total 5 columns):\n",
      " #   Column       Non-Null Count  Dtype \n",
      "---  ------       --------------  ----- \n",
      " 0   topic        21337 non-null  object\n",
      " 1   user_name    21337 non-null  object\n",
      " 2   repo_name    21337 non-null  object\n",
      " 3   repo_link    21337 non-null  object\n",
      " 4   start_count  21337 non-null  object\n",
      "dtypes: object(5)\n",
      "memory usage: 833.6+ KB\n"
     ]
    }
   ],
   "source": [
    "topic_repo_df.info()"
   ]
  },
  {
   "cell_type": "markdown",
   "id": "4e86fafd-af4d-4699-b87f-e1d412eef301",
   "metadata": {},
   "source": [
    "**`start_count`** is numeric values, it's recorded as *`object`* beacuse, instead of writting **87100**, it written as **87.1k**.\n",
    "\n",
    "And also conveting it into `int32` from default `int64`.\n",
    "\n",
    "Why `int32` and why not `int64` **?**, refer https://jakevdp.github.io/PythonDataScienceHandbook/02.01-understanding-data-types.html#NumPy-Standard-Data-Types"
   ]
  },
  {
   "cell_type": "code",
   "execution_count": 9,
   "id": "0d6326ec-50e5-4c4f-a533-a43437b70a2a",
   "metadata": {},
   "outputs": [],
   "source": [
    "def stars_int(val):\n",
    "    \n",
    "    if re.search(r'k|k', val):\n",
    "        val = re.sub(r'k|k', '', val)\n",
    "        val = ast.literal_eval(val) * 1000\n",
    "    return int(val)"
   ]
  },
  {
   "cell_type": "code",
   "execution_count": 10,
   "id": "2beba26a-4b46-4cc0-b73c-26923a47949b",
   "metadata": {},
   "outputs": [
    {
     "data": {
      "text/html": [
       "<div>\n",
       "<style scoped>\n",
       "    .dataframe tbody tr th:only-of-type {\n",
       "        vertical-align: middle;\n",
       "    }\n",
       "\n",
       "    .dataframe tbody tr th {\n",
       "        vertical-align: top;\n",
       "    }\n",
       "\n",
       "    .dataframe thead th {\n",
       "        text-align: right;\n",
       "    }\n",
       "</style>\n",
       "<table border=\"1\" class=\"dataframe\">\n",
       "  <thead>\n",
       "    <tr style=\"text-align: right;\">\n",
       "      <th></th>\n",
       "      <th>topic</th>\n",
       "      <th>user_name</th>\n",
       "      <th>repo_name</th>\n",
       "      <th>repo_link</th>\n",
       "      <th>start_count</th>\n",
       "    </tr>\n",
       "  </thead>\n",
       "  <tbody>\n",
       "    <tr>\n",
       "      <th>0</th>\n",
       "      <td>3d</td>\n",
       "      <td>mrdoob</td>\n",
       "      <td>three.js</td>\n",
       "      <td>https://github.com/mrdoob/three.js</td>\n",
       "      <td>87100</td>\n",
       "    </tr>\n",
       "    <tr>\n",
       "      <th>1</th>\n",
       "      <td>3d</td>\n",
       "      <td>libgdx</td>\n",
       "      <td>libgdx</td>\n",
       "      <td>https://github.com/libgdx/libgdx</td>\n",
       "      <td>20800</td>\n",
       "    </tr>\n",
       "    <tr>\n",
       "      <th>2</th>\n",
       "      <td>3d</td>\n",
       "      <td>pmndrs</td>\n",
       "      <td>react-three-fiber</td>\n",
       "      <td>https://github.com/pmndrs/react-three-fiber</td>\n",
       "      <td>20500</td>\n",
       "    </tr>\n",
       "    <tr>\n",
       "      <th>3</th>\n",
       "      <td>3d</td>\n",
       "      <td>BabylonJS</td>\n",
       "      <td>Babylon.js</td>\n",
       "      <td>https://github.com/BabylonJS/Babylon.js</td>\n",
       "      <td>18800</td>\n",
       "    </tr>\n",
       "    <tr>\n",
       "      <th>4</th>\n",
       "      <td>3d</td>\n",
       "      <td>ssloy</td>\n",
       "      <td>tinyrenderer</td>\n",
       "      <td>https://github.com/ssloy/tinyrenderer</td>\n",
       "      <td>15300</td>\n",
       "    </tr>\n",
       "  </tbody>\n",
       "</table>\n",
       "</div>"
      ],
      "text/plain": [
       "  topic  user_name          repo_name  \\\n",
       "0    3d     mrdoob           three.js   \n",
       "1    3d     libgdx             libgdx   \n",
       "2    3d     pmndrs  react-three-fiber   \n",
       "3    3d  BabylonJS         Babylon.js   \n",
       "4    3d      ssloy       tinyrenderer   \n",
       "\n",
       "                                     repo_link  start_count  \n",
       "0           https://github.com/mrdoob/three.js        87100  \n",
       "1             https://github.com/libgdx/libgdx        20800  \n",
       "2  https://github.com/pmndrs/react-three-fiber        20500  \n",
       "3      https://github.com/BabylonJS/Babylon.js        18800  \n",
       "4        https://github.com/ssloy/tinyrenderer        15300  "
      ]
     },
     "execution_count": 10,
     "metadata": {},
     "output_type": "execute_result"
    }
   ],
   "source": [
    "topic_repo_df['start_count'] = topic_repo_df.start_count.apply(stars_int).astype('int32')\n",
    "\n",
    "topic_repo_df.head()"
   ]
  }
 ],
 "metadata": {
  "kernelspec": {
   "display_name": "Python 3 (ipykernel)",
   "language": "python",
   "name": "python3"
  },
  "language_info": {
   "codemirror_mode": {
    "name": "ipython",
    "version": 3
   },
   "file_extension": ".py",
   "mimetype": "text/x-python",
   "name": "python",
   "nbconvert_exporter": "python",
   "pygments_lexer": "ipython3",
   "version": "3.10.8"
  }
 },
 "nbformat": 4,
 "nbformat_minor": 5
}
