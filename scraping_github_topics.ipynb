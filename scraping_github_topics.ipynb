{
 "cells": [
  {
   "cell_type": "markdown",
   "id": "46bae8c5-54b1-41ec-9ca8-86de83ef5afd",
   "metadata": {},
   "source": [
    "# 'Topics on GitHub' Scrapper\n",
    "\n",
    "<img src = 'https://i.imgur.com/Uig9ymG.png'>"
   ]
  },
  {
   "cell_type": "markdown",
   "id": "ae622c45-3a4c-47f3-b717-1704dc3b112b",
   "metadata": {},
   "source": [
    "# Importing libraries"
   ]
  },
  {
   "cell_type": "code",
   "execution_count": 1,
   "id": "469415c2-3675-4980-9eb0-9e6c6ba7989f",
   "metadata": {},
   "outputs": [],
   "source": [
    "import os\n",
    "import time\n",
    "import pandas as pd\n",
    "from tqdm import tqdm\n",
    "from bs4 import BeautifulSoup as bs\n",
    "\n",
    "from selenium import webdriver\n",
    "from selenium.webdriver.common.by import By\n",
    "from webdriver_manager.core.utils import ChromeType\n",
    "from webdriver_manager.chrome import ChromeDriverManager\n",
    "from selenium.webdriver.chrome.service import Service as ChromiumService"
   ]
  },
  {
   "cell_type": "markdown",
   "id": "49eeaf53-9a91-4331-aa26-d2187e2a1d4d",
   "metadata": {},
   "source": [
    "# Generating All featured topics"
   ]
  },
  {
   "cell_type": "code",
   "execution_count": 2,
   "id": "995e801a-8fb5-4ad1-9566-32d574b8564f",
   "metadata": {},
   "outputs": [],
   "source": [
    "def call_webdriver():\n",
    "    return webdriver.Chrome(service=ChromiumService(ChromeDriverManager(chrome_type=ChromeType.CHROMIUM).install()))"
   ]
  },
  {
   "cell_type": "code",
   "execution_count": 3,
   "id": "2e764d7b-c423-4a88-978f-bc8709c3e2d5",
   "metadata": {},
   "outputs": [],
   "source": [
    "# https://pythonbasics.org/selenium-scroll-down/\n",
    "\n",
    "def scroll_to_bottom():\n",
    "    driver.execute_script(\"window.scrollTo(0, document.body.scrollHeight)\")"
   ]
  },
  {
   "cell_type": "code",
   "execution_count": 4,
   "id": "ad79617c-817b-406a-857b-559f028ffb36",
   "metadata": {},
   "outputs": [
    {
     "name": "stdout",
     "output_type": "stream",
     "text": [
      "'topics.csv' already exisits, not using crawler\n"
     ]
    }
   ],
   "source": [
    "BASE_URL = 'https://github.com'\n",
    "\n",
    "if not os.path.isfile('data/topics.csv'):\n",
    "    \n",
    "    print('Opening selenium crawler')\n",
    "    \n",
    "    driver = call_webdriver()\n",
    "    driver.get(BASE_URL + '/topics')\n",
    "    driver.maximize_window()\n",
    "    scroll_to_bottom()\n",
    "\n",
    "    try:\n",
    "        while True:\n",
    "            time.sleep(2)\n",
    "            driver.find_element(By.XPATH, \"//button[@type = 'submit']\").click()\n",
    "            time.sleep(3)\n",
    "            scroll_to_bottom()\n",
    "    except:\n",
    "        pass\n",
    "    \n",
    "    soup = bs(driver.page_source, 'lxml')\n",
    "    driver.quit()\n",
    "\n",
    "    # print(soup.prettify())\n",
    "else:\n",
    "    print(\"'topics.csv' already exisits, not using crawler\")"
   ]
  },
  {
   "cell_type": "code",
   "execution_count": 5,
   "id": "6211ad41-c69d-4c0a-8351-b56087e6a7e6",
   "metadata": {
    "tags": []
   },
   "outputs": [
    {
     "name": "stdout",
     "output_type": "stream",
     "text": [
      "Loading saved 'topics.csv'\n",
      "Number of topic titles collected : 180\n",
      "\n"
     ]
    },
    {
     "data": {
      "text/html": [
       "<div>\n",
       "<style scoped>\n",
       "    .dataframe tbody tr th:only-of-type {\n",
       "        vertical-align: middle;\n",
       "    }\n",
       "\n",
       "    .dataframe tbody tr th {\n",
       "        vertical-align: top;\n",
       "    }\n",
       "\n",
       "    .dataframe thead th {\n",
       "        text-align: right;\n",
       "    }\n",
       "</style>\n",
       "<table border=\"1\" class=\"dataframe\">\n",
       "  <thead>\n",
       "    <tr style=\"text-align: right;\">\n",
       "      <th></th>\n",
       "      <th>title</th>\n",
       "      <th>link</th>\n",
       "      <th>descrip</th>\n",
       "    </tr>\n",
       "  </thead>\n",
       "  <tbody>\n",
       "    <tr>\n",
       "      <th>0</th>\n",
       "      <td>3D</td>\n",
       "      <td>https://github.com/topics/3d</td>\n",
       "      <td>3D modeling is the process of virtually develo...</td>\n",
       "    </tr>\n",
       "    <tr>\n",
       "      <th>1</th>\n",
       "      <td>Ajax</td>\n",
       "      <td>https://github.com/topics/ajax</td>\n",
       "      <td>Ajax is a technique for creating interactive w...</td>\n",
       "    </tr>\n",
       "    <tr>\n",
       "      <th>2</th>\n",
       "      <td>Algorithm</td>\n",
       "      <td>https://github.com/topics/algorithm</td>\n",
       "      <td>Algorithms are self-contained sequences that c...</td>\n",
       "    </tr>\n",
       "    <tr>\n",
       "      <th>3</th>\n",
       "      <td>Amp</td>\n",
       "      <td>https://github.com/topics/amphp</td>\n",
       "      <td>Amp is a non-blocking concurrency library for ...</td>\n",
       "    </tr>\n",
       "    <tr>\n",
       "      <th>4</th>\n",
       "      <td>Android</td>\n",
       "      <td>https://github.com/topics/android</td>\n",
       "      <td>Android is an operating system built by Google...</td>\n",
       "    </tr>\n",
       "  </tbody>\n",
       "</table>\n",
       "</div>"
      ],
      "text/plain": [
       "       title                                 link  \\\n",
       "0         3D         https://github.com/topics/3d   \n",
       "1       Ajax       https://github.com/topics/ajax   \n",
       "2  Algorithm  https://github.com/topics/algorithm   \n",
       "3        Amp      https://github.com/topics/amphp   \n",
       "4    Android    https://github.com/topics/android   \n",
       "\n",
       "                                             descrip  \n",
       "0  3D modeling is the process of virtually develo...  \n",
       "1  Ajax is a technique for creating interactive w...  \n",
       "2  Algorithms are self-contained sequences that c...  \n",
       "3  Amp is a non-blocking concurrency library for ...  \n",
       "4  Android is an operating system built by Google...  "
      ]
     },
     "execution_count": 5,
     "metadata": {},
     "output_type": "execute_result"
    }
   ],
   "source": [
    "if not os.path.isfile('data/topics.csv'):\n",
    "    \n",
    "    print(\"Data file doesn't exists, scrapping data\")\n",
    "    all_topics = soup.find_all('div', {'class' : 'py-4 border-bottom d-flex flex-justify-between'})\n",
    "\n",
    "    links, titles, descs = [], [], []\n",
    "    for topic in all_topics:\n",
    "\n",
    "        topic_box = topic.find('a', {'class' : 'no-underline flex-1 d-flex flex-column'})\n",
    "        links.append(BASE_URL + topic_box['href'])\n",
    "        titles.append(topic_box.select('p')[0].text.strip())\n",
    "        descs.append(topic_box.select('p')[1].text.strip())\n",
    "\n",
    "    topic_df = pd.DataFrame({'title' : titles, 'link' : links, 'descrip' : descs})\n",
    "    topic_df.to_csv('data/topics.csv', index = False)\n",
    "    print(f'Number of topic titles collected : {len(topic_df)}\\n')\n",
    "else:\n",
    "    print(\"Loading saved 'topics.csv'\")\n",
    "    topic_df = pd.read_csv('data/topics.csv')\n",
    "    print(f'Number of topic titles collected : {len(topic_df)}\\n')\n",
    "\n",
    "topic_df.head()"
   ]
  },
  {
   "cell_type": "markdown",
   "id": "e0b462a3-3a37-4386-9f6f-a91a4b42c935",
   "metadata": {},
   "source": [
    "# Generating repository details"
   ]
  },
  {
   "cell_type": "code",
   "execution_count": null,
   "id": "9d131268-d0f6-4289-a44e-955a8c1c7c7b",
   "metadata": {},
   "outputs": [],
   "source": [
    "if not os.path.isfile('data/repo_details.csv'):\n",
    "\n",
    "    driver = call_webdriver()\n",
    "    driver.maximize_window()\n",
    "\n",
    "    topic_repo_df = pd.DataFrame({'topic' : [], 'user_name' : [], 'repo_name' : [], 'repo_link' : [], 'start_count' : []})\n",
    "    not_120 = []\n",
    "    \n",
    "    for t_link in tqdm(topic_df.link):\n",
    "        driver.get(t_link)\n",
    "        try:\n",
    "            count = 5\n",
    "            while count:\n",
    "                scroll_to_bottom()\n",
    "                time.sleep(2)\n",
    "                driver.find_element(By.XPATH, \"//button[@type = 'submit']\").click()\n",
    "                time.sleep(2)\n",
    "                scroll_to_bottom()\n",
    "                time.sleep(2)\n",
    "                count -= 1\n",
    "        except:\n",
    "            not_120.append(t_link)\n",
    "        \n",
    "        soup = bs(driver.page_source, 'lxml')\n",
    "        all_div_box = soup.find_all('div', {'class' : 'd-flex flex-justify-between flex-items-start flex-wrap gap-2 my-3'})\n",
    "\n",
    "        for div_box in all_div_box:\n",
    "            topic = t_link.split(\"/\")[-1]\n",
    "            user_name = div_box.select('h3 a')[0].text.strip()\n",
    "            repo_name = div_box.select('h3 a')[1].text.strip()\n",
    "            repo_link = BASE_URL + div_box.select('h3 a')[1]['href'].strip()\n",
    "            star_count = div_box.find('span', class_ = 'Counter js-social-count').text\n",
    "\n",
    "            topic_repo_df.loc[len(topic_repo_df)] = [topic, user_name, repo_name, repo_link, star_count]\n",
    "\n",
    "    driver.quit()\n",
    "    topic_repo_df.to_csv('data/repo_details.csv', index = False)\n",
    "    print(f'Number of repo details collected : {len(topic_repo_df)}\\n')\n",
    "    \n",
    "else:\n",
    "    print(\"Loading saved 'repo_details.csv'\")\n",
    "    topic_repo_df = pd.read_csv('data/repo_details.csv')\n",
    "    print(f'Number of repo details collected : {len(topic_repo_df)}\\n')\n",
    "\n",
    "topic_repo_df.head()"
   ]
  },
  {
   "cell_type": "code",
   "execution_count": null,
   "id": "1bd1f9bd-c436-4240-82c2-38ba8b638273",
   "metadata": {},
   "outputs": [],
   "source": []
  },
  {
   "cell_type": "code",
   "execution_count": null,
   "id": "9f29750d-bd1b-4bff-b46f-0cfcd2dfef43",
   "metadata": {},
   "outputs": [],
   "source": []
  },
  {
   "cell_type": "code",
   "execution_count": null,
   "id": "e857e032-0d31-412e-98d3-8ccfd5b30dbd",
   "metadata": {},
   "outputs": [],
   "source": []
  },
  {
   "cell_type": "code",
   "execution_count": null,
   "id": "853608b2-9836-454b-a59d-c5a8a805ec9f",
   "metadata": {},
   "outputs": [],
   "source": []
  }
 ],
 "metadata": {
  "kernelspec": {
   "display_name": "Python 3 (ipykernel)",
   "language": "python",
   "name": "python3"
  },
  "language_info": {
   "codemirror_mode": {
    "name": "ipython",
    "version": 3
   },
   "file_extension": ".py",
   "mimetype": "text/x-python",
   "name": "python",
   "nbconvert_exporter": "python",
   "pygments_lexer": "ipython3",
   "version": "3.10.8"
  }
 },
 "nbformat": 4,
 "nbformat_minor": 5
}
